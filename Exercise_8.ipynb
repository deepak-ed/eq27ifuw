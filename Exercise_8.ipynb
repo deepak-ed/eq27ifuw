{
  "nbformat": 4,
  "nbformat_minor": 0,
  "metadata": {
    "colab": {
      "name": "Exercise_8.ipynb",
      "provenance": [],
      "include_colab_link": true
    },
    "kernelspec": {
      "name": "python3",
      "display_name": "Python 3"
    },
    "language_info": {
      "name": "python"
    }
  },
  "cells": [
    {
      "cell_type": "markdown",
      "metadata": {
        "id": "view-in-github",
        "colab_type": "text"
      },
      "source": [
        "<a href=\"https://colab.research.google.com/github/deepak-ed/eq27ifuw/blob/main/Exercise_8.ipynb\" target=\"_parent\"><img src=\"https://colab.research.google.com/assets/colab-badge.svg\" alt=\"Open In Colab\"/></a>"
      ]
    },
    {
      "cell_type": "markdown",
      "metadata": {
        "id": "5Yyl-RzVB1AN"
      },
      "source": [
        "# Staying up-to-date\n",
        "\n",
        "Hello everyone! Today we will work with *Tensorflow callbacks* to send status notifications using **Telegram**.\n",
        "\n",
        "\n",
        "* **Telegram** is a free messaging app that focuses on speed \n",
        "and security, with over 500 million monthly active users."
      ]
    },
    {
      "cell_type": "code",
      "execution_count": 1,
      "metadata": {
        "id": "S5gOuKZpJgHD"
      },
      "outputs": [],
      "source": [
        "import tensorflow as tf # Library for machine learning and AI \n",
        "import requests # Library used to send HTTP/1.1 requests"
      ]
    },
    {
      "cell_type": "markdown",
      "metadata": {
        "id": "5jdry1HuD3r7"
      },
      "source": [
        "# Convolutional Neural Network\n",
        "\n",
        "First, we need to create our cnn (see Exercise 4) to work later with our callbacks:"
      ]
    },
    {
      "cell_type": "code",
      "execution_count": 2,
      "metadata": {
        "id": "R9_pI2ukJ9vp",
        "colab": {
          "base_uri": "https://localhost:8080/"
        },
        "outputId": "28a8943e-fe61-4fe6-9816-181c380043bb"
      },
      "outputs": [
        {
          "output_type": "stream",
          "name": "stdout",
          "text": [
            "Downloading data from https://storage.googleapis.com/tensorflow/tf-keras-datasets/mnist.npz\n",
            "11493376/11490434 [==============================] - 0s 0us/step\n",
            "11501568/11490434 [==============================] - 0s 0us/step\n"
          ]
        }
      ],
      "source": [
        "mnist = tf.keras.datasets.mnist #loading mnist\n",
        "(x_train, y_train), (x_test, y_test) = mnist.load_data()  #assigning the test and train data\n",
        "x_train, x_test = x_train / 255.0, x_test / 255.0"
      ]
    },
    {
      "cell_type": "code",
      "execution_count": 3,
      "metadata": {
        "id": "Rp9ThyfQJ3XF"
      },
      "outputs": [],
      "source": [
        "cnn = tf.keras.models.Sequential([\n",
        "    tf.keras.layers.Conv2D(8, (3,3), input_shape=(28,28,1), padding='same', activation='relu'),\n",
        "    tf.keras.layers.MaxPool2D(),\n",
        "    tf.keras.layers.Conv2D(16, (3,3), padding='same', activation='relu'),\n",
        "    tf.keras.layers.MaxPool2D(),\n",
        "    tf.keras.layers.Conv2D(32, (3,3), padding='same', activation='relu'),\n",
        "    tf.keras.layers.Flatten(),\n",
        "    tf.keras.layers.Dense(128, activation='relu'),\n",
        "    tf.keras.layers.Dropout(0.2),\n",
        "    tf.keras.layers.Dense(10, activation='softmax')\n",
        "])"
      ]
    },
    {
      "cell_type": "code",
      "execution_count": 4,
      "metadata": {
        "id": "5eEEvywnKByX"
      },
      "outputs": [],
      "source": [
        "cnn.compile(\"adam\", \"sparse_categorical_crossentropy\", metrics=['acc'])"
      ]
    },
    {
      "cell_type": "markdown",
      "metadata": {
        "id": "bCGwCW1yfwZv"
      },
      "source": [
        "# Telegram bot"
      ]
    },
    {
      "cell_type": "markdown",
      "metadata": {
        "id": "QCbHi80m3o8q"
      },
      "source": [
        "## Create a callback that works using Telegram.\n",
        "\n",
        "1. ToDo: Search how to create a Bot using Telegram and get its personal token."
      ]
    },
    {
      "cell_type": "code",
      "execution_count": 5,
      "metadata": {
        "id": "p9aFQu1W0R94"
      },
      "outputs": [],
      "source": [
        "personal_token = '5059385072:AAF-wE72L5x4qxp6kDFf7M8-zdhhefQ21Yw'"
      ]
    },
    {
      "cell_type": "markdown",
      "metadata": {
        "id": "Nb3l9ymU8nE4"
      },
      "source": [
        "2. ToDo: Create the Tensorflow callback that notifies using the Telegram bot."
      ]
    },
    {
      "cell_type": "code",
      "execution_count": 12,
      "metadata": {
        "id": "XOQS_N5-4bX3"
      },
      "outputs": [],
      "source": [
        "from types import new_class\n",
        "# 2.1 ToDo: Declare the subclass to create a custom callback\n",
        "class botCallback(tf.keras.callbacks.Callback):\n",
        "  def __init__(self,personal_token):\n",
        "    self.personal_token = personal_token\n",
        "    self.ping_url = 'https://api.telegram.org/bot'+str(self.personal_token)+'/getUpdates'\n",
        "    self.response = requests.get(self.ping_url).json()\n",
        "    self.chat_id = self.response['result'][0]['message']['chat']['id']\n",
        "    self.last_message_id = self.response['result'][-1][\"message\"][\"message_id\"]\n",
        "\n",
        "  def send_message(self,message):\n",
        "    self.ping_url = 'https://api.telegram.org/bot'+str(self.personal_token)+'/sendMessage?'+\\\n",
        "                    'chat_id='+str(self.chat_id)+\\\n",
        "                    '&parse_mode=Markdown'+\\\n",
        "                    '&text='+message\n",
        "    self.response = requests.get(self.ping_url)\n",
        "\n",
        "\n",
        "    #2.2 ToDo: Message notifying that it is starting to learn.\n",
        "  def on_train_begin(self, logs = None):\n",
        "    self.send_message(\"The training has started\")\n",
        "  \n",
        "    #2.3 ToDo: Message notifying the results at the end of each epoch.\n",
        "  def on_epoch_begin(self, epoch, logs = None):\n",
        "    pass\n",
        "      \n",
        "  def on_epoch_end(self, epoch, logs = None):\n",
        "    message = ' Epoch {}\\n Training Accuracy : {:f}\\n Training Loss : {:f}\\n'.format(epoch,logs['acc'],logs['loss'])\n",
        "    self.send_message(message)\n",
        "\n",
        "      \n",
        "    #2.4 ToDo: Message notifying that you are done training.\n",
        "  def on_train_end(self, logs = None):\n",
        "    self.send_message(\"The training has ended\") \n",
        "\n",
        "    #2.5 ToDo: Message notifying the results of cnn.evaluate.\n",
        "  def on_test_begin(self, logs=None):\n",
        "    self.send_message(\"The testing has started\")\n",
        "  \n",
        "  def on_test_end(self, logs=None):\n",
        "    message = 'Testing Accuracy : {:f}\\n Testing Loss : {:f}\\n'.format(logs['acc'],logs['loss'])\n",
        "    self.send_message(message)\n",
        "    self.send_message(\"The testing has ended\")\n",
        "    #2.6 ToDo: Check the last message and if it is \"stop\" stop the training\n",
        "\n",
        "  def on_epoch_begin(self, epoch, logs = None):\n",
        "    pass\n",
        "    \n",
        "      \n",
        "  def on_epoch_end(self, epoch, logs = None):\n",
        "    message = ' Epoch {}\\n Training Accuracy : {:f}\\n Training Loss : {:f}\\n'.format(epoch,logs['acc'],logs['loss'])\n",
        "    self.send_message(message)\n",
        "    self.ping_url = 'https://api.telegram.org/bot'+str(self.personal_token)+'/getUpdates'\n",
        "    self.response = requests.get(self.ping_url).json()\n",
        "    last_message = self.response['result'][-1][\"message\"][\"text\"]\n",
        "    if(last_message== \"stop\"):\n",
        "      self.model.stop_training = True\n",
        "      message = 'last message is :{} '.format(last_message)\n",
        "      self.send_message(message)\n",
        "   \n",
        "\n",
        "\n",
        "#Note: The Callback has to do every task asked, otherwise you don't get the point."
      ]
    },
    {
      "cell_type": "markdown",
      "metadata": {
        "id": "HiM4xiSF-tNr"
      },
      "source": [
        "We assign the callback to a variable called ```bot_callback```:"
      ]
    },
    {
      "cell_type": "code",
      "execution_count": 13,
      "metadata": {
        "id": "HkOLRrYh2SOP"
      },
      "outputs": [],
      "source": [
        "bot_callback = botCallback(personal_token)"
      ]
    },
    {
      "cell_type": "markdown",
      "metadata": {
        "id": "tml4ocBJ6A1J"
      },
      "source": [
        "3. ToDo: make the callback work on both train and test:"
      ]
    },
    {
      "cell_type": "code",
      "execution_count": 10,
      "metadata": {
        "id": "25of78Zv197u",
        "colab": {
          "base_uri": "https://localhost:8080/"
        },
        "outputId": "717b6e83-4a78-4c86-fc88-c2280d680d26"
      },
      "outputs": [
        {
          "output_type": "stream",
          "name": "stdout",
          "text": [
            "Epoch 1/5\n",
            "1875/1875 [==============================] - 35s 19ms/step - loss: 0.0316 - acc: 0.9901\n",
            "Epoch 2/5\n",
            "1875/1875 [==============================] - 36s 19ms/step - loss: 0.0262 - acc: 0.9914\n",
            "Epoch 3/5\n",
            "1875/1875 [==============================] - 36s 19ms/step - loss: 0.0204 - acc: 0.9932\n",
            "Epoch 4/5\n",
            "1875/1875 [==============================] - 35s 19ms/step - loss: 0.0171 - acc: 0.9944\n",
            "Epoch 5/5\n",
            "1875/1875 [==============================] - 35s 19ms/step - loss: 0.0154 - acc: 0.9948\n"
          ]
        }
      ],
      "source": [
        "h = cnn.fit(x_train[..., None], y_train, epochs=5, callbacks=[bot_callback])"
      ]
    },
    {
      "cell_type": "code",
      "execution_count": 14,
      "metadata": {
        "id": "CWUsVVlMKIr9",
        "colab": {
          "base_uri": "https://localhost:8080/"
        },
        "outputId": "611b5459-671a-4bc2-a104-658bccfcd55d"
      },
      "outputs": [
        {
          "output_type": "stream",
          "name": "stdout",
          "text": [
            "313/313 [==============================] - 3s 11ms/step - loss: 0.0310 - acc: 0.9910\n"
          ]
        },
        {
          "output_type": "execute_result",
          "data": {
            "text/plain": [
              "[0.03097439929842949, 0.9909999966621399]"
            ]
          },
          "metadata": {},
          "execution_count": 14
        }
      ],
      "source": [
        "cnn.evaluate(x_test, y_test, callbacks=[bot_callback])"
      ]
    }
  ]
}